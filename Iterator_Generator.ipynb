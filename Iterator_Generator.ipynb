{
 "cells": [
  {
   "cell_type": "markdown",
   "id": "cfce41b5",
   "metadata": {},
   "source": [
    "# Iterator\n",
    "### What is an Iteration?\n",
    "Iteration is a general term for taking each item of something, one after another. Anytime you use a loop, explicit or implicit, to go over a group of items, that is iteration."
   ]
  },
  {
   "cell_type": "code",
   "execution_count": 55,
   "id": "7102d3a0",
   "metadata": {},
   "outputs": [
    {
     "name": "stdout",
     "output_type": "stream",
     "text": [
      "1\n",
      "2\n",
      "3\n"
     ]
    }
   ],
   "source": [
    "# Example\n",
    "L1=[1,2,3]\n",
    "for i in L1:\n",
    "    print(i)"
   ]
  },
  {
   "cell_type": "markdown",
   "id": "9f285dde",
   "metadata": {},
   "source": [
    "### What is Iterator?\n",
    "An Iteratoris an object that allows a programmer to traverse through a sequence of data without having to store the entire data in the memory.  \n",
    "\n",
    "Iterator is that object with the help of that iteration happens."
   ]
  },
  {
   "cell_type": "code",
   "execution_count": 56,
   "id": "abfc44b3",
   "metadata": {},
   "outputs": [
    {
     "name": "stdout",
     "output_type": "stream",
     "text": [
      "0\n",
      "1\n",
      "2\n",
      "3\n",
      "4\n",
      "5\n",
      "6\n",
      "7\n",
      "8\n",
      "9\n",
      "10\n",
      "11\n",
      "-----------memory size----------\n",
      "85176\n",
      "----------------------\n",
      "0\n",
      "1\n",
      "2\n",
      "3\n",
      "4\n",
      "5\n",
      "6\n",
      "7\n",
      "8\n",
      "9\n",
      "10\n",
      "11\n",
      "-----------memory size----------\n",
      "48\n",
      "----------------------\n"
     ]
    }
   ],
   "source": [
    "# Example\n",
    "\n",
    "# taking all eliment in the memory, and consuming more memory\n",
    "import sys\n",
    "L2= [x for x in range(0,10000)]\n",
    "for i in L2:\n",
    "    print(i)\n",
    "    if i > 10:\n",
    "        break\n",
    "\n",
    "print(\"-----------memory size----------\")  \n",
    "print(sys.getsizeof(L2))\n",
    "print(\"----------------------\")  \n",
    "\n",
    "\n",
    "# taking only one eliment in the memory, and consuming less memory\n",
    "# it create iterator object and takes only load one element at one go in memory\n",
    "x = range(0,10000)\n",
    "for i in x:\n",
    "    print(i)\n",
    "    if i > 10:\n",
    "        break\n",
    "print(\"-----------memory size----------\")  \n",
    "print(sys.getsizeof(x))\n",
    "print(\"----------------------\")  "
   ]
  },
  {
   "cell_type": "markdown",
   "id": "108a3461",
   "metadata": {},
   "source": [
    "### What is Iterable?\n",
    "Iterable is an object, which one can iterate over.\n",
    "It generates an Iterator when passed to iter() method."
   ]
  },
  {
   "cell_type": "code",
   "execution_count": 57,
   "id": "b48e3111",
   "metadata": {},
   "outputs": [
    {
     "name": "stdout",
     "output_type": "stream",
     "text": [
      "<class 'list'>\n"
     ]
    },
    {
     "data": {
      "text/plain": [
       "list_iterator"
      ]
     },
     "execution_count": 57,
     "metadata": {},
     "output_type": "execute_result"
    }
   ],
   "source": [
    "# Example\n",
    "\n",
    "# iterable\n",
    "L3=[1,2,3,4,5]\n",
    "print(type(L3))\n",
    "\n",
    "# iterator\n",
    "L4=iter(L3)\n",
    "type(L4)"
   ]
  },
  {
   "cell_type": "code",
   "execution_count": 58,
   "id": "88675ac1",
   "metadata": {},
   "outputs": [
    {
     "data": {
      "text/plain": [
       "1"
      ]
     },
     "execution_count": 58,
     "metadata": {},
     "output_type": "execute_result"
    }
   ],
   "source": [
    "next(L4)"
   ]
  },
  {
   "cell_type": "markdown",
   "id": "70f8479c",
   "metadata": {},
   "source": [
    "### Point to remember\n",
    "1. Every Iterators are also Iterable.\n",
    "2. Not all Iterables are Iterators."
   ]
  },
  {
   "cell_type": "markdown",
   "id": "fcd24ed1",
   "metadata": {},
   "source": [
    "### Trick\n",
    "Every Iterable has an iter function.\n",
    "Every Iterator has both item and next function."
   ]
  },
  {
   "cell_type": "code",
   "execution_count": 103,
   "id": "96331880",
   "metadata": {},
   "outputs": [
    {
     "ename": "TypeError",
     "evalue": "'int' object is not iterable",
     "output_type": "error",
     "traceback": [
      "\u001b[1;31m---------------------------------------------------------------------------\u001b[0m",
      "\u001b[1;31mTypeError\u001b[0m                                 Traceback (most recent call last)",
      "Cell \u001b[1;32mIn[103], line 3\u001b[0m\n\u001b[0;32m      1\u001b[0m \u001b[38;5;66;03m# a is iterable if below run\u001b[39;00m\n\u001b[0;32m      2\u001b[0m a\u001b[38;5;241m=\u001b[39m\u001b[38;5;241m15\u001b[39m\n\u001b[1;32m----> 3\u001b[0m \u001b[38;5;28;01mfor\u001b[39;00m i \u001b[38;5;129;01min\u001b[39;00m a:\n\u001b[0;32m      4\u001b[0m     \u001b[38;5;28mprint\u001b[39m(i)\n",
      "\u001b[1;31mTypeError\u001b[0m: 'int' object is not iterable"
     ]
    }
   ],
   "source": [
    "# a is iterable if below run\n",
    "a=15\n",
    "for i in a:\n",
    "    print(i)"
   ]
  },
  {
   "cell_type": "code",
   "execution_count": 60,
   "id": "7220af45",
   "metadata": {},
   "outputs": [
    {
     "data": {
      "text/plain": [
       "['__add__',\n",
       " '__class__',\n",
       " '__class_getitem__',\n",
       " '__contains__',\n",
       " '__delattr__',\n",
       " '__delitem__',\n",
       " '__dir__',\n",
       " '__doc__',\n",
       " '__eq__',\n",
       " '__format__',\n",
       " '__ge__',\n",
       " '__getattribute__',\n",
       " '__getitem__',\n",
       " '__gt__',\n",
       " '__hash__',\n",
       " '__iadd__',\n",
       " '__imul__',\n",
       " '__init__',\n",
       " '__init_subclass__',\n",
       " '__iter__',\n",
       " '__le__',\n",
       " '__len__',\n",
       " '__lt__',\n",
       " '__mul__',\n",
       " '__ne__',\n",
       " '__new__',\n",
       " '__reduce__',\n",
       " '__reduce_ex__',\n",
       " '__repr__',\n",
       " '__reversed__',\n",
       " '__rmul__',\n",
       " '__setattr__',\n",
       " '__setitem__',\n",
       " '__sizeof__',\n",
       " '__str__',\n",
       " '__subclasshook__',\n",
       " 'append',\n",
       " 'clear',\n",
       " 'copy',\n",
       " 'count',\n",
       " 'extend',\n",
       " 'index',\n",
       " 'insert',\n",
       " 'pop',\n",
       " 'remove',\n",
       " 'reverse',\n",
       " 'sort']"
      ]
     },
     "execution_count": 60,
     "metadata": {},
     "output_type": "execute_result"
    }
   ],
   "source": [
    "# a is iterable if __iter__ function is there\n",
    "dir(a)"
   ]
  },
  {
   "cell_type": "code",
   "execution_count": 61,
   "id": "117047de",
   "metadata": {},
   "outputs": [
    {
     "data": {
      "text/plain": [
       "['__add__',\n",
       " '__class__',\n",
       " '__class_getitem__',\n",
       " '__contains__',\n",
       " '__delattr__',\n",
       " '__dir__',\n",
       " '__doc__',\n",
       " '__eq__',\n",
       " '__format__',\n",
       " '__ge__',\n",
       " '__getattribute__',\n",
       " '__getitem__',\n",
       " '__getnewargs__',\n",
       " '__gt__',\n",
       " '__hash__',\n",
       " '__init__',\n",
       " '__init_subclass__',\n",
       " '__iter__',\n",
       " '__le__',\n",
       " '__len__',\n",
       " '__lt__',\n",
       " '__mul__',\n",
       " '__ne__',\n",
       " '__new__',\n",
       " '__reduce__',\n",
       " '__reduce_ex__',\n",
       " '__repr__',\n",
       " '__rmul__',\n",
       " '__setattr__',\n",
       " '__sizeof__',\n",
       " '__str__',\n",
       " '__subclasshook__',\n",
       " 'count',\n",
       " 'index']"
      ]
     },
     "execution_count": 61,
     "metadata": {},
     "output_type": "execute_result"
    }
   ],
   "source": [
    "S1 = {1,2,3,4,5,6}\n",
    "T1 = (1,2,3,4,5,6,)\n",
    "dir(T1)"
   ]
  },
  {
   "cell_type": "code",
   "execution_count": 62,
   "id": "d20388ea",
   "metadata": {},
   "outputs": [
    {
     "data": {
      "text/plain": [
       "['__class__',\n",
       " '__delattr__',\n",
       " '__dir__',\n",
       " '__doc__',\n",
       " '__eq__',\n",
       " '__format__',\n",
       " '__ge__',\n",
       " '__getattribute__',\n",
       " '__gt__',\n",
       " '__hash__',\n",
       " '__init__',\n",
       " '__init_subclass__',\n",
       " '__iter__',\n",
       " '__le__',\n",
       " '__length_hint__',\n",
       " '__lt__',\n",
       " '__ne__',\n",
       " '__new__',\n",
       " '__next__',\n",
       " '__reduce__',\n",
       " '__reduce_ex__',\n",
       " '__repr__',\n",
       " '__setattr__',\n",
       " '__sizeof__',\n",
       " '__str__',\n",
       " '__subclasshook__']"
      ]
     },
     "execution_count": 62,
     "metadata": {},
     "output_type": "execute_result"
    }
   ],
   "source": [
    "# D1 is iterator if __iter__ and __next__ functon is available \n",
    "D1 = {1:1,2:2,3:3,4:4,5:5,6:6}\n",
    "D1_iter=iter(D1)\n",
    "dir(D1_iter)"
   ]
  },
  {
   "cell_type": "markdown",
   "id": "2d275bee",
   "metadata": {},
   "source": [
    "### Understanding how for loop works"
   ]
  },
  {
   "cell_type": "code",
   "execution_count": 63,
   "id": "c1ec7606",
   "metadata": {},
   "outputs": [
    {
     "name": "stdout",
     "output_type": "stream",
     "text": [
      "1\n",
      "2\n",
      "3\n",
      "4\n",
      "5\n"
     ]
    }
   ],
   "source": [
    "num = [1,2,3,4,5]\n",
    "for i in num:\n",
    "    print(i)"
   ]
  },
  {
   "cell_type": "code",
   "execution_count": 64,
   "id": "3220a240",
   "metadata": {},
   "outputs": [],
   "source": [
    "# step 1 - from the iterable fetch iterator\n",
    "# step 2 - then perform next to every element"
   ]
  },
  {
   "cell_type": "code",
   "execution_count": 65,
   "id": "a732161c",
   "metadata": {},
   "outputs": [],
   "source": [
    "num_iter=iter(num)"
   ]
  },
  {
   "cell_type": "code",
   "execution_count": 66,
   "id": "572c4e73",
   "metadata": {},
   "outputs": [
    {
     "data": {
      "text/plain": [
       "1"
      ]
     },
     "execution_count": 66,
     "metadata": {},
     "output_type": "execute_result"
    }
   ],
   "source": [
    "# run until StopIteration \n",
    "next(num_iter)"
   ]
  },
  {
   "cell_type": "markdown",
   "id": "d28d77ea",
   "metadata": {},
   "source": [
    "### Making our own for loop"
   ]
  },
  {
   "cell_type": "code",
   "execution_count": 67,
   "id": "4c5feec4",
   "metadata": {},
   "outputs": [],
   "source": [
    "def my_loop_fun(x): # x must be iterable\n",
    "    x_iter=iter(x)\n",
    "    while True:\n",
    "        try:\n",
    "            print(next(x_iter))\n",
    "        except StopIteration:\n",
    "            break"
   ]
  },
  {
   "cell_type": "code",
   "execution_count": 68,
   "id": "92b07b96",
   "metadata": {},
   "outputs": [
    {
     "name": "stdout",
     "output_type": "stream",
     "text": [
      "---------a--------\n",
      "1\n",
      "2\n",
      "3\n",
      "4\n",
      "5\n",
      "---------b--------\n",
      "11\n",
      "22\n",
      "33\n",
      "44\n",
      "55\n",
      "---------c--------\n",
      "2\n",
      "4\n",
      "6\n",
      "8\n",
      "10\n",
      "---------d--------\n",
      "A\n",
      "B\n",
      "C\n",
      "D\n",
      "E\n"
     ]
    }
   ],
   "source": [
    "a=[1,2,3,4,5]\n",
    "b=(11,22,33,44,55)\n",
    "c={2,4,6,8,10}\n",
    "d={\"A\":1,\"B\":2,\"C\":3,\"D\":4,\"E\":5}\n",
    "print(\"---------a--------\")\n",
    "my_loop_fun(a)\n",
    "print(\"---------b--------\")\n",
    "my_loop_fun(b)\n",
    "print(\"---------c--------\")\n",
    "my_loop_fun(c)\n",
    "print(\"---------d--------\")\n",
    "my_loop_fun(d)"
   ]
  },
  {
   "cell_type": "markdown",
   "id": "c1ff3ed3",
   "metadata": {},
   "source": [
    "### A confusing point"
   ]
  },
  {
   "cell_type": "code",
   "execution_count": 69,
   "id": "c6026b2b",
   "metadata": {},
   "outputs": [
    {
     "name": "stdout",
     "output_type": "stream",
     "text": [
      "2997985448656 ===> num_iter_obj1\n",
      "2997985448656 ===> num_iter_obj2\n"
     ]
    }
   ],
   "source": [
    "num=[1,2,3,4,5,6,7,8,9,10]\n",
    "num_iter_obj1=iter(num)\n",
    "print(id(num_iter_obj1),'===> num_iter_obj1')\n",
    "\n",
    "num_iter_obj2=iter(num_iter_obj1)\n",
    "print(id(num_iter_obj2),'===> num_iter_obj2')"
   ]
  },
  {
   "cell_type": "code",
   "execution_count": 70,
   "id": "ef126967",
   "metadata": {},
   "outputs": [],
   "source": [
    "num=[1,2,3,4,5,6,7,8,9,10]\n",
    "num_iter_obj1=iter(num)\n",
    "num_iter_obj2=iter(num_iter_obj1)\n",
    "\n",
    "num_iter_obj3=iter(num_iter_obj2)"
   ]
  },
  {
   "cell_type": "code",
   "execution_count": 71,
   "id": "1d0dafb3",
   "metadata": {},
   "outputs": [
    {
     "data": {
      "text/plain": [
       "1"
      ]
     },
     "execution_count": 71,
     "metadata": {},
     "output_type": "execute_result"
    }
   ],
   "source": [
    "next(num_iter_obj1)"
   ]
  },
  {
   "cell_type": "code",
   "execution_count": 72,
   "id": "8c33dd3b",
   "metadata": {},
   "outputs": [
    {
     "data": {
      "text/plain": [
       "2"
      ]
     },
     "execution_count": 72,
     "metadata": {},
     "output_type": "execute_result"
    }
   ],
   "source": [
    "next(num_iter_obj2)"
   ]
  },
  {
   "cell_type": "code",
   "execution_count": 73,
   "id": "70c2c06e",
   "metadata": {},
   "outputs": [
    {
     "data": {
      "text/plain": [
       "3"
      ]
     },
     "execution_count": 73,
     "metadata": {},
     "output_type": "execute_result"
    }
   ],
   "source": [
    "next(num_iter_obj3)"
   ]
  },
  {
   "cell_type": "markdown",
   "id": "f24fa400",
   "metadata": {},
   "source": [
    "### create our own range() function"
   ]
  },
  {
   "cell_type": "code",
   "execution_count": 74,
   "id": "b55e3fa1",
   "metadata": {},
   "outputs": [],
   "source": [
    "# iterable\n",
    "class my_range:\n",
    "    \n",
    "    def __init__(self,start,end):\n",
    "        self.start=start\n",
    "        self.end=end\n",
    "    \n",
    "    def __iter__(self):\n",
    "        return my_range_iterator(self) "
   ]
  },
  {
   "cell_type": "code",
   "execution_count": 75,
   "id": "2787601e",
   "metadata": {},
   "outputs": [],
   "source": [
    "# iterator\n",
    "class my_range_iterator:\n",
    "    \n",
    "    def __init__(self, range_obj):\n",
    "        self.iterable=range_obj        \n",
    "    \n",
    "    def __iter__(self):\n",
    "        return self\n",
    "    def __next__(self):\n",
    "        \n",
    "        if self.iterable.start>= self.iterable.end:\n",
    "            raise StopIteration\n",
    "        \n",
    "        current=self.iterable.start\n",
    "        self.iterable.start+=1\n",
    "        return current"
   ]
  },
  {
   "cell_type": "code",
   "execution_count": 76,
   "id": "058746c2",
   "metadata": {},
   "outputs": [
    {
     "name": "stdout",
     "output_type": "stream",
     "text": [
      "1\n",
      "2\n",
      "3\n",
      "4\n",
      "5\n",
      "6\n",
      "7\n",
      "8\n",
      "9\n",
      "10\n"
     ]
    }
   ],
   "source": [
    "for i in my_range(1,11):\n",
    "    print(i)"
   ]
  },
  {
   "cell_type": "code",
   "execution_count": 77,
   "id": "4eed13de",
   "metadata": {},
   "outputs": [
    {
     "data": {
      "text/plain": [
       "__main__.my_range"
      ]
     },
     "execution_count": 77,
     "metadata": {},
     "output_type": "execute_result"
    }
   ],
   "source": [
    "x=my_range(1,11)\n",
    "type(x)"
   ]
  },
  {
   "cell_type": "code",
   "execution_count": 78,
   "id": "1fd9f790",
   "metadata": {},
   "outputs": [],
   "source": [
    "y=iter(x)"
   ]
  },
  {
   "cell_type": "code",
   "execution_count": 79,
   "id": "790d860c",
   "metadata": {},
   "outputs": [
    {
     "data": {
      "text/plain": [
       "1"
      ]
     },
     "execution_count": 79,
     "metadata": {},
     "output_type": "execute_result"
    }
   ],
   "source": [
    "next(y)"
   ]
  },
  {
   "cell_type": "code",
   "execution_count": 80,
   "id": "cb8ac9ae",
   "metadata": {},
   "outputs": [
    {
     "data": {
      "text/plain": [
       "__main__.my_range_iterator"
      ]
     },
     "execution_count": 80,
     "metadata": {},
     "output_type": "execute_result"
    }
   ],
   "source": [
    "type(y)"
   ]
  },
  {
   "cell_type": "code",
   "execution_count": 81,
   "id": "870c4d77",
   "metadata": {},
   "outputs": [],
   "source": [
    "z=iter(y)"
   ]
  },
  {
   "cell_type": "code",
   "execution_count": 82,
   "id": "b75cafad",
   "metadata": {},
   "outputs": [
    {
     "data": {
      "text/plain": [
       "2"
      ]
     },
     "execution_count": 82,
     "metadata": {},
     "output_type": "execute_result"
    }
   ],
   "source": [
    "next(z)"
   ]
  },
  {
   "cell_type": "markdown",
   "id": "819509a3",
   "metadata": {},
   "source": [
    "# Generator\n",
    "\n",
    "### What is generator?\n",
    "Python generators are a simple way of creating iterators."
   ]
  },
  {
   "cell_type": "code",
   "execution_count": 83,
   "id": "a9c6e1e9",
   "metadata": {},
   "outputs": [],
   "source": [
    "def gen_fun():\n",
    "    yield 'first statement'\n",
    "    yield 'second statement'\n",
    "    yield 'third statement'    "
   ]
  },
  {
   "cell_type": "code",
   "execution_count": 84,
   "id": "c9ef570a",
   "metadata": {},
   "outputs": [],
   "source": [
    "gen=gen_fun()"
   ]
  },
  {
   "cell_type": "code",
   "execution_count": 85,
   "id": "a20a2517",
   "metadata": {},
   "outputs": [
    {
     "name": "stdout",
     "output_type": "stream",
     "text": [
      "first statement\n",
      "second statement\n",
      "third statement\n"
     ]
    }
   ],
   "source": [
    "for i in gen:\n",
    "    print(i)"
   ]
  },
  {
   "cell_type": "markdown",
   "id": "68a6630f",
   "metadata": {},
   "source": [
    "## Difference \n",
    "\n",
    "### Generator:\n",
    "1. generator partially completes the task and clears the memory, but again, when it is called, it remembers where it has ended and, from there, performs the next task.\n",
    "2. yield keyword is used\n",
    "\n",
    "### Normal Function:\n",
    "1. normal function Perform the task once and clear the memory. \n",
    "2. return keyword is used"
   ]
  },
  {
   "cell_type": "code",
   "execution_count": 86,
   "id": "ec0573e3",
   "metadata": {},
   "outputs": [],
   "source": [
    "# Example\n",
    "def square(num):\n",
    "    for i in range(1,num):\n",
    "        yield i**2"
   ]
  },
  {
   "cell_type": "code",
   "execution_count": 87,
   "id": "1ed3203f",
   "metadata": {},
   "outputs": [],
   "source": [
    "sqr_obj=square(10)"
   ]
  },
  {
   "cell_type": "code",
   "execution_count": 88,
   "id": "b5a28583",
   "metadata": {},
   "outputs": [
    {
     "name": "stdout",
     "output_type": "stream",
     "text": [
      "1\n",
      "4\n",
      "9\n"
     ]
    }
   ],
   "source": [
    "print(next(sqr_obj))\n",
    "print(next(sqr_obj))\n",
    "print(next(sqr_obj))"
   ]
  },
  {
   "cell_type": "code",
   "execution_count": 89,
   "id": "716de35f",
   "metadata": {},
   "outputs": [
    {
     "name": "stdout",
     "output_type": "stream",
     "text": [
      "16\n",
      "25\n",
      "36\n",
      "49\n",
      "64\n",
      "81\n"
     ]
    }
   ],
   "source": [
    "for i in sqr_obj:\n",
    "    print(i)"
   ]
  },
  {
   "cell_type": "markdown",
   "id": "7210f612",
   "metadata": {},
   "source": [
    "###  Range Function Using Generator"
   ]
  },
  {
   "cell_type": "code",
   "execution_count": 90,
   "id": "0a8f50d0",
   "metadata": {},
   "outputs": [],
   "source": [
    "def my_range_new(start,new):\n",
    "    for rng in range(start,new):\n",
    "        yield rng"
   ]
  },
  {
   "cell_type": "code",
   "execution_count": 91,
   "id": "9636c6a4",
   "metadata": {},
   "outputs": [],
   "source": [
    "x=my_range_new(11,21)"
   ]
  },
  {
   "cell_type": "code",
   "execution_count": 92,
   "id": "e0a18784",
   "metadata": {},
   "outputs": [
    {
     "data": {
      "text/plain": [
       "11"
      ]
     },
     "execution_count": 92,
     "metadata": {},
     "output_type": "execute_result"
    }
   ],
   "source": [
    "next(x)"
   ]
  },
  {
   "cell_type": "code",
   "execution_count": 93,
   "id": "77fa4dcb",
   "metadata": {},
   "outputs": [
    {
     "name": "stdout",
     "output_type": "stream",
     "text": [
      "12\n",
      "13\n",
      "14\n",
      "15\n",
      "16\n",
      "17\n",
      "18\n",
      "19\n",
      "20\n"
     ]
    }
   ],
   "source": [
    "for i in x:\n",
    "    print(i)"
   ]
  },
  {
   "cell_type": "markdown",
   "id": "df3c158d",
   "metadata": {},
   "source": [
    "### Generator Expression"
   ]
  },
  {
   "cell_type": "code",
   "execution_count": 94,
   "id": "b39204d9",
   "metadata": {},
   "outputs": [
    {
     "data": {
      "text/plain": [
       "[1, 4, 9, 16, 25, 36, 49, 64, 81, 100]"
      ]
     },
     "execution_count": 94,
     "metadata": {},
     "output_type": "execute_result"
    }
   ],
   "source": [
    "# list comprehension\n",
    "list_1=[i**2 for i in range(1,11)]  \n",
    "list_1"
   ]
  },
  {
   "cell_type": "code",
   "execution_count": 95,
   "id": "dd42aee8",
   "metadata": {},
   "outputs": [],
   "source": [
    "# geneator expression\n",
    "gen_1=(i**2 for i in range(1,11))"
   ]
  },
  {
   "cell_type": "code",
   "execution_count": 96,
   "id": "3e5e34c4",
   "metadata": {},
   "outputs": [
    {
     "data": {
      "text/plain": [
       "1"
      ]
     },
     "execution_count": 96,
     "metadata": {},
     "output_type": "execute_result"
    }
   ],
   "source": [
    "next(gen_1)"
   ]
  },
  {
   "cell_type": "code",
   "execution_count": 97,
   "id": "bae380fe",
   "metadata": {},
   "outputs": [
    {
     "name": "stdout",
     "output_type": "stream",
     "text": [
      "4\n",
      "9\n",
      "16\n",
      "25\n",
      "36\n",
      "49\n",
      "64\n",
      "81\n",
      "100\n"
     ]
    }
   ],
   "source": [
    "for i in gen_1:\n",
    "    print(i)"
   ]
  },
  {
   "cell_type": "markdown",
   "id": "d6f82b26",
   "metadata": {},
   "source": [
    "### Benifit of Generator: \n",
    "1. ease of implementation\n",
    "2. memory efficient\n",
    "3. representing infinite streams\n",
    "4. chaining generators (to solve complex problesm)"
   ]
  },
  {
   "cell_type": "code",
   "execution_count": 98,
   "id": "3e857257",
   "metadata": {},
   "outputs": [
    {
     "data": {
      "text/plain": [
       "'\\nimport sys\\ndef all_odd_num():\\n    num=1\\n    while True:\\n        yield num \\n        num+=2\\nall_odd_num_obj=all_odd_num()  \\n'"
      ]
     },
     "execution_count": 98,
     "metadata": {},
     "output_type": "execute_result"
    }
   ],
   "source": [
    "# representing infinite streams\n",
    "\"\"\"\n",
    "import sys\n",
    "def all_odd_num():\n",
    "    num=1\n",
    "    while True:\n",
    "        yield num \n",
    "        num+=2\n",
    "all_odd_num_obj=all_odd_num()  \n",
    "\"\"\""
   ]
  },
  {
   "cell_type": "code",
   "execution_count": 99,
   "id": "72c35a88",
   "metadata": {},
   "outputs": [
    {
     "data": {
      "text/plain": [
       "'\\nprint(\"value: \",next(all_odd_num_obj))\\nprint(\"size occupied in memory: \",sys.getsizeof(all_odd_num_obj))\\n'"
      ]
     },
     "execution_count": 99,
     "metadata": {},
     "output_type": "execute_result"
    }
   ],
   "source": [
    "\"\"\"\n",
    "print(\"value: \",next(all_odd_num_obj))\n",
    "print(\"size occupied in memory: \",sys.getsizeof(all_odd_num_obj))\n",
    "\"\"\""
   ]
  },
  {
   "cell_type": "code",
   "execution_count": 100,
   "id": "d3fe0678",
   "metadata": {},
   "outputs": [],
   "source": [
    "def gen_11(x):\n",
    "    for i in range(1,x):\n",
    "        yield i"
   ]
  },
  {
   "cell_type": "code",
   "execution_count": 101,
   "id": "7803a92f",
   "metadata": {},
   "outputs": [],
   "source": [
    "x=gen_11(5)"
   ]
  },
  {
   "cell_type": "code",
   "execution_count": 102,
   "id": "8f0fe674",
   "metadata": {},
   "outputs": [
    {
     "data": {
      "text/plain": [
       "1"
      ]
     },
     "execution_count": 102,
     "metadata": {},
     "output_type": "execute_result"
    }
   ],
   "source": [
    "next(x)"
   ]
  },
  {
   "cell_type": "code",
   "execution_count": null,
   "id": "e030b6d5",
   "metadata": {},
   "outputs": [],
   "source": []
  }
 ],
 "metadata": {
  "kernelspec": {
   "display_name": "Python 3 (ipykernel)",
   "language": "python",
   "name": "python3"
  },
  "language_info": {
   "codemirror_mode": {
    "name": "ipython",
    "version": 3
   },
   "file_extension": ".py",
   "mimetype": "text/x-python",
   "name": "python",
   "nbconvert_exporter": "python",
   "pygments_lexer": "ipython3",
   "version": "3.10.9"
  }
 },
 "nbformat": 4,
 "nbformat_minor": 5
}
